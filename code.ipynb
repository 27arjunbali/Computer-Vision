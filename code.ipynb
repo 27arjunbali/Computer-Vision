{
 "cells": [
  {
   "cell_type": "code",
   "execution_count": 7,
   "metadata": {},
   "outputs": [],
   "source": [
    "# A simple code to detect face and eyes.\n",
    "# As this is going to help understand computer vision for beginner level.\n",
    "# Importing the libraries\n",
    "import cv2"
   ]
  },
  {
   "cell_type": "code",
   "execution_count": 8,
   "metadata": {},
   "outputs": [],
   "source": [
    "# Loading the cascades\n",
    "face_cascade = cv2.CascadeClassifier('haarcascade_frontalface_default.xml')\n",
    "eye_cascade = cv2.CascadeClassifier('haarcascade_eye.xml')"
   ]
  },
  {
   "cell_type": "code",
   "execution_count": 9,
   "metadata": {},
   "outputs": [],
   "source": [
    "# we will define a function that will work on images one by one\n",
    "# we will take the image in gray scale in first parameter and frame parameter.\n",
    "def detect(gray, frame):\n",
    "    # we will define parameters of the rectangle that will detect the face\n",
    "    # x, y are the coordinates of the upper left corner and w,h are the width\n",
    "    # and height of the rectangle\n",
    "    faces = face_cascade.detectMultiScale(gray,1.3,5)\n",
    "    # Here  we are defining parameters in the face_cascade\n",
    "    # detectMultiScale will help in detecting the coordinates of the face\n",
    "    # in the rectange whereas gray is converting the image into black and white\n",
    "    # 1.3 is for reducing the image by 1.3 and third parameters we set is 5\n",
    "    # which will accept 5 zonal neighbours pixels near the face.\n",
    "    # Why 1.3 and 5 because it is a good combo to detect faces.\n",
    "    # as faces are tuples with four co-ordinates\n",
    "    for (x,y,w,h) in faces:\n",
    "        cv2.rectangle(frame, (x,y),  (x+w, y+h), (255,0,0),2)\n",
    "        # here 4 parameters are defined i.e. frame, upper left corner(x,y)\n",
    "        # (x+w, y+h) lower right corner rectangle (255,0,0) is the\n",
    "        # color of the rectangle and 2 is the thickness of the line of the\n",
    "        # rectangle\n",
    "        roi_gray = gray[y:y+h, x:x+w]\n",
    "        roi_color = frame[y:y+h, x:x+w]\n",
    "        eyes = eye_cascade.detectMultiScale(roi_gray,1.1,3)\n",
    "        # we iterate through the faces to draw rectangle around the eyes\n",
    "        # we define two point of interests 1) we use cascade to detect eyes\n",
    "        # in the face and 2) to draw rectangle on the color image\n",
    "        # roi_gray and roi_color are the point of interest\n",
    "        # as there are two parameters defined i.e y:y+h which is for to detect\n",
    "        # upper left corner and i.e x:x+w which is for to detect lower right\n",
    "        # rectangle\n",
    "        for (ex, ey, ew, eh) in eyes:\n",
    "            cv2.rectangle(roi_color, (ex, ey), (ex+ew, ey+eh), (0,255,0),2)\n",
    "    return frame\n",
    "# here above in 3 lines as the same things we did for image we do it for\n",
    "# eyes in the reference of the face and then frame is the image that is \n",
    "# detecting eyes and faces in the image."
   ]
  },
  {
   "cell_type": "code",
   "execution_count": 10,
   "metadata": {},
   "outputs": [],
   "source": [
    "# Doing some face recognition with the webcam\n",
    "# 1 for external webcam and 0 for internal.\n",
    "video_capture=cv2.VideoCapture(0)\n",
    "while True:\n",
    "    _, frame = video_capture.read()\n",
    "    # we will only use last frame getting from the webcam as read method return\n",
    "    # two elements.\n",
    "    gray = cv2.cvtColor(frame, cv2.COLOR_BGR2GRAY)\n",
    "    # gray is the black and white version of the image and average of BGR\n",
    "    # to get the scale of gray.\n",
    "    canvas = detect(gray, frame)\n",
    "    cv2.imshow('Video', canvas)\n",
    "    # Display all the processed images in a animated way in a window.\n",
    "    if cv2.waitKey(1) & 0xFF == ord('q'):\n",
    "    # If we press q it will break the process and no more facial detection.\n",
    "        break\n",
    "video_capture.release()\n",
    "# to turn off the webcam\n",
    "cv2.destroyAllWindows()\n",
    "# to destroy all the windows where images were displayed."
   ]
  }
 ],
 "metadata": {
  "kernelspec": {
   "display_name": "Python 3",
   "language": "python",
   "name": "python3"
  },
  "language_info": {
   "codemirror_mode": {
    "name": "ipython",
    "version": 3
   },
   "file_extension": ".py",
   "mimetype": "text/x-python",
   "name": "python",
   "nbconvert_exporter": "python",
   "pygments_lexer": "ipython3",
   "version": "3.6.5"
  }
 },
 "nbformat": 4,
 "nbformat_minor": 2
}
